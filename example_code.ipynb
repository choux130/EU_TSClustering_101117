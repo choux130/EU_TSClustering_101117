{
  "nbformat": 4,
  "nbformat_minor": 0,
  "metadata": {
    "colab": {
      "name": "example_code.ipynb",
      "provenance": [],
      "collapsed_sections": [],
      "include_colab_link": true
    },
    "kernelspec": {
      "name": "python3",
      "display_name": "Python 3"
    }
  },
  "cells": [
    {
      "cell_type": "markdown",
      "metadata": {
        "id": "view-in-github",
        "colab_type": "text"
      },
      "source": [
        "<a href=\"https://colab.research.google.com/github/choux130/EU_TSClustering_101117/blob/master/example_code.ipynb\" target=\"_parent\"><img src=\"https://colab.research.google.com/assets/colab-badge.svg\" alt=\"Open In Colab\"/></a>"
      ]
    },
    {
      "cell_type": "code",
      "metadata": {
        "id": "eL4PMiJNZAIK",
        "colab_type": "code",
        "colab": {
          "base_uri": "https://localhost:8080/",
          "height": 102
        },
        "outputId": "2ef9f85f-6439-4401-ae2b-ffdc5157272d"
      },
      "source": [
        "# there is a R kernel in the jupyter notebook\n",
        "!jupyter-kernelspec list\n",
        "\n",
        "%load_ext rpy2.ipython"
      ],
      "execution_count": 2,
      "outputs": [
        {
          "output_type": "stream",
          "text": [
            "Available kernels:\n",
            "  ir         /usr/local/share/jupyter/kernels/ir\n",
            "  python2    /usr/local/share/jupyter/kernels/python2\n",
            "  python3    /usr/local/share/jupyter/kernels/python3\n",
            "  swift      /usr/local/share/jupyter/kernels/swift\n"
          ],
          "name": "stdout"
        }
      ]
    },
    {
      "cell_type": "code",
      "metadata": {
        "id": "IRuCdZgmZYAC",
        "colab_type": "code",
        "colab": {}
      },
      "source": [
        "%%R\n",
        "install.packages(c(\"tensorflow\", \"keras\", \"tfdatasets\"))\n",
        "tensorflow::install_tensorflow()\n",
        "\n",
        "keras::use_implementation(\"tensorflow\")\n",
        "tensorflow::tfe_enable_eager_execution(device_policy = \"silent\")\n",
        "\n",
        "install.packages(c(\"purrr\", \"glue\"))\n"
      ],
      "execution_count": 0,
      "outputs": []
    },
    {
      "cell_type": "code",
      "metadata": {
        "id": "rV_TmIueZuNI",
        "colab_type": "code",
        "colab": {
          "base_uri": "https://localhost:8080/",
          "height": 34
        },
        "outputId": "0781adb6-8a29-4f18-d4c5-715005821a22"
      },
      "source": [
        "%%R\n",
        "library(purrr)\n",
        "library(glue)\n",
        "library(keras)\n",
        "\n",
        "# If you have enough memory on your GPU, no need to load the images\n",
        "# at such small size.\n",
        "# This is the size I found working for a 4G GPU.\n",
        "img_shape <- c(128, 128, 3)\n",
        "\n",
        "content_path <- \"isar.jpg\"\n",
        "\n",
        "content_image <-  image_load(content_path, target_size = img_shape[1:2])\n",
        "content_image %>% \n",
        "  image_to_array() %>%\n",
        "  `/`(., 255) %>%\n",
        "  as.raster() %>%\n",
        "  plot()"
      ],
      "execution_count": 1,
      "outputs": [
        {
          "output_type": "stream",
          "text": [
            "UsageError: Cell magic `%%R` not found.\n"
          ],
          "name": "stderr"
        }
      ]
    },
    {
      "cell_type": "code",
      "metadata": {
        "id": "uYoOKMaoZ3NN",
        "colab_type": "code",
        "colab": {}
      },
      "source": [
        ""
      ],
      "execution_count": 0,
      "outputs": []
    }
  ]
}